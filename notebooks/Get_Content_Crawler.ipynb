{
  "nbformat": 4,
  "nbformat_minor": 0,
  "metadata": {
    "colab": {
      "name": "Get-Content-Crawler.ipynb",
      "provenance": [],
      "toc_visible": true
    },
    "kernelspec": {
      "name": "python3",
      "display_name": "Python 3"
    }
  },
  "cells": [
    {
      "cell_type": "markdown",
      "metadata": {
        "id": "aAaeutpGcYdL",
        "colab_type": "text"
      },
      "source": [
        "## Crawl sites and download content.\n",
        "Create folder structure under main folder - semi-supervised-lda \n",
        "\n",
        "> 1) data -> links\n",
        "\n",
        "> 2) data -> raw_content   \n",
        "\n",
        "> 3) data -> parsed_content                          \n"
      ]
    },
    {
      "cell_type": "code",
      "metadata": {
        "id": "j2q343VhPMLB",
        "colab_type": "code",
        "colab": {}
      },
      "source": [
        "! mkdir /content/semi-supervised-lda\n",
        "! mkdir /content/semi-supervised-lda/data\n",
        "! mkdir /content/semi-supervised-lda/data/links\n",
        "! mkdir /content/semi-supervised-lda/data/raw_content\n",
        "! mkdir /content/semi-supervised-lda/data/parsed_content/"
      ],
      "execution_count": 2,
      "outputs": []
    },
    {
      "cell_type": "code",
      "metadata": {
        "id": "8LKzrY1vhQ-h",
        "colab_type": "code",
        "colab": {
          "base_uri": "https://localhost:8080/",
          "height": 34
        },
        "outputId": "a9eadeb3-7291-4821-ceed-2e1ccebd71b5"
      },
      "source": [
        "## Download Libraries.\n",
        "! pip3 install beautifulsoup4"
      ],
      "execution_count": 3,
      "outputs": [
        {
          "output_type": "stream",
          "text": [
            "Requirement already satisfied: beautifulsoup4 in /usr/local/lib/python3.6/dist-packages (4.6.3)\n"
          ],
          "name": "stdout"
        }
      ]
    },
    {
      "cell_type": "code",
      "metadata": {
        "id": "dySVWRgDKzYC",
        "colab_type": "code",
        "colab": {}
      },
      "source": [
        "## Declare Globals.\n",
        "list_of_links = [] # stores links to crawls.\n",
        "raw_links_dir = \"/content/semi-supervised-lda/data/links/\"\n",
        "raw_content_dir = \"/content/semi-supervised-lda/data/raw_content/\"\n"
      ],
      "execution_count": 36,
      "outputs": []
    },
    {
      "cell_type": "code",
      "metadata": {
        "id": "C278vLvcgsv8",
        "colab_type": "code",
        "colab": {
          "base_uri": "https://localhost:8080/",
          "height": 34
        },
        "outputId": "f93a96aa-b8fd-4175-a52e-0d4a720895a5"
      },
      "source": [
        "## List all URLS for the past month from times-archive search.\n",
        "from bs4 import BeautifulSoup\n",
        "\n",
        "def scrape_links_from_html(filename):\n",
        "  \"\"\"\n",
        "  This function expects links to be in the static pages downloaded.\n",
        "  It creates a list and spits the output to a file.\n",
        "\n",
        "  Link used for this dataset:\n",
        "  https://timespast.nyt.net/\n",
        "  Articles for past month from the science desk - save contents as html files.\n",
        "\n",
        "  \"\"\"\n",
        "  with open(filename, 'r', encoding=\"utf8\", errors='ignore') as f:\n",
        "    contents = f.read()\n",
        "    html_soup = BeautifulSoup(contents, 'html.parser')\n",
        "    type(html_soup)\n",
        "    \n",
        "    for a in html_soup.find_all('a'):\n",
        "      link = a['href']\n",
        "      if 'parch' not in link:\n",
        "        list_of_links.append(link)\n",
        "\n",
        "print(len(list_of_links))\n",
        " "
      ],
      "execution_count": 7,
      "outputs": [
        {
          "output_type": "stream",
          "text": [
            "0\n"
          ],
          "name": "stdout"
        }
      ]
    },
    {
      "cell_type": "code",
      "metadata": {
        "id": "Iqkz3WmDhVI5",
        "colab_type": "code",
        "colab": {}
      },
      "source": [
        "import requests\n",
        "import os\n",
        "from urllib.parse import urlparse\n",
        "\n",
        "def scrape_text_from_link(url, output_dir):\n",
        "  \"\"\"\n",
        "  This method gets the raw html from the url and scrapes the text.\n",
        "  Removes any additional tags etc.\n",
        "  \"\"\"\n",
        "  res = requests.get(url)\n",
        "  lnk = urlparse(url)\n",
        "  url_filename=os.path.basename(lnk.path)+\".txt\"\n",
        "  html_page = res.content\n",
        "  soup = BeautifulSoup(html_page, 'html.parser')\n",
        "  text = soup.find_all(text=True)\n",
        "\n",
        "  output = ''\n",
        "  blacklist = [\n",
        "    '[document]',\n",
        "    'noscript',\n",
        "    'header',\n",
        "    'html',\n",
        "    'meta',\n",
        "    'head', \n",
        "    'input',\n",
        "    'script',\n",
        "    'style',\n",
        "    'nav'\n",
        "  ]\n",
        "\n",
        "  for t in text:   \n",
        "    if t.parent.name not in blacklist:\n",
        "      output += '{} '.format(t.strip().replace('\\n',' ')) \n",
        "\n",
        "  file = open(output_dir+url_filename,\"w\") \n",
        "  file.write(output)\n",
        "  file.close()\n"
      ],
      "execution_count": 37,
      "outputs": []
    },
    {
      "cell_type": "code",
      "metadata": {
        "id": "eICtoj-od-yQ",
        "colab_type": "code",
        "colab": {
          "base_uri": "https://localhost:8080/",
          "height": 88
        },
        "outputId": "b15d1292-ddc9-4620-88d1-cfd45796b122"
      },
      "source": [
        "import os\n",
        "import re\n",
        "\n",
        "list_of_links.clear()\n",
        "\n",
        "for filename in os.listdir(raw_links_dir):\n",
        "  scrape_links_from_html(raw_links_dir+filename)\n",
        "\n",
        "print(\"# of links found\")\n",
        "print(len(list_of_links))\n",
        "## Check if we need to filter. TODO: move this to a filter function.\n",
        "regex = re.compile(r'.html')\n",
        "filtered_links = [i for i in list_of_links if regex.search(i)]\n",
        "print(filtered_links)\n",
        "list_of_links = filtered_links"
      ],
      "execution_count": 38,
      "outputs": [
        {
          "output_type": "stream",
          "text": [
            "# of links found\n",
            "204\n",
            "['https://www.nytimes.com/2020/07/24/health/cdc-schools-coronavirus.html', 'https://www.nytimes.com/2020/07/14/science/earthquake-dna-genes-kelp.html', 'https://www.nytimes.com/2020/07/21/science/mammals-vocal-learning.html', 'https://www.nytimes.com/2020/07/15/science/coronavirus-blood-type.html', 'https://www.nytimes.com/2020/08/01/science/vines-lianas-panama.html', 'https://www.nytimes.com/2020/07/16/science/nasa-james-webb-space-telescope-delay.html', 'https://www.nytimes.com/2020/07/06/health/coronavirus-airborne-aerosols.html', 'https://www.nytimes.com/2020/07/29/health/coronavirus-future-america.html', 'https://www.nytimes.com/2020/08/02/health/dr-birx-coronavirus-phase.html', 'https://www.nytimes.com/2020/07/07/health/novavax-coronavirus-vaccine-warp-speed.html', 'https://www.nytimes.com/2020/08/02/science/spacex-nasa-return.html', 'https://www.nytimes.com/2020/07/24/science/mars-life-water.html', 'https://www.nytimes.com/2020/07/28/science/nasa-jezero-perseverance.html', 'https://www.nytimes.com/2020/08/04/health/coronavirus-hotels-infect.html', 'https://www.nytimes.com/2020/07/22/science/china-mars-mission.html', 'https://www.nytimes.com/2020/07/22/science/mars-china-launch.html', 'https://www.nytimes.com/2020/08/04/health/coronavirus-immune-system.html', 'https://www.nytimes.com/2020/07/22/health/coronavirus-isolation-testing.html', 'https://www.nytimes.com/2020/08/04/science/randall-munroe-xkcd-temperature.html', 'https://www.nytimes.com/2020/07/06/health/fast-coronavirus-tests.html', 'https://www.nytimes.com/article/trump-cognitive-test.html', 'https://www.nytimes.com/2020/07/19/health/coronavirus-testing-viral-spread.html', 'https://www.nytimes.com/article/neowise-comet.html', 'https://www.nytimes.com/2020/07/06/health/coronavirus-nick-cordero-underlying-conditions.html', 'https://www.nytimes.com/2020/07/31/science/alexandrian-glass-rome.html', 'https://www.nytimes.com/2020/07/17/health/seniors-coronavirus-reopenings.html', 'https://www.nytimes.com/2020/07/16/health/coronavirus-vaccine-novavax.html', 'https://www.nytimes.com/2020/07/15/science/hybrid-sturgeon-paddlefish.html', 'https://www.nytimes.com/2020/07/18/health/coronavirus-children-schools.html', 'https://www.nytimes.com/2020/07/19/science/emirates-mars-mission.html', 'https://www.nytimes.com/2020/07/29/health/covid-school-reopening.html', 'https://www.nytimes.com/2020/07/13/health/organ-transplants-lungs.html', 'https://www.nytimes.com/2020/07/08/health/coronavirus-risk-factors.html', 'https://www.nytimes.com/2020/07/14/health/coronavirus-hair-salon-masks.html', 'https://www.nytimes.com/2020/07/28/science/mars-sample-return-mission.html', 'https://www.nytimes.com/2020/08/03/science/beetle-frog-poop.html', 'https://www.nytimes.com/2020/07/14/science/mars-united-arab-emirates.html', 'https://www.nytimes.com/2020/08/03/health/covid-telemedicine-congress.html', 'https://www.nytimes.com/2020/07/28/health/coronavirus-moderna-vaccine-monkeys.html', 'https://www.nytimes.com/2020/07/10/health/coronavirus-race-pregnancy.html', 'https://www.nytimes.com/2020/07/23/science/mosquitoes-genetics-africa.html', 'https://www.nytimes.com/2020/07/07/science/neutrinos-snowball-randall-munroe.html', 'https://www.nytimes.com/2020/08/05/health/covid-insurance-profits.html', 'https://www.nytimes.com/2020/07/27/health/moderna-vaccine-covid.html', 'https://www.nytimes.com/2020/07/07/health/coronavirus-aerosols-who.html', 'https://www.nytimes.com/2020/07/21/health/hospitals-donations-patients.html', 'https://www.nytimes.com/2020/08/06/health/coronavirus-asymptomatic-transmission.html', 'https://www.nytimes.com/2020/07/12/health/coronavirus-trump-deaths.html', 'https://www.nytimes.com/2020/07/23/health/coronavirus-vaccine-allocation.html', 'https://www.nytimes.com/2020/07/18/science/bear-whisperer-steve-searles.html', 'https://www.nytimes.com/2020/07/29/science/stonehenge-archaeology-sarsens.html', 'https://www.nytimes.com/2020/07/31/health/covid-19-vaccine-sanofi-gsk.html', 'https://www.nytimes.com/2020/07/07/science/boeing-starliner-nasa.html', 'https://www.nytimes.com/2020/07/07/health/hiv-remission-brazil.html', 'https://www.nytimes.com/2020/07/06/science/spirit-bears-canada.html', 'https://www.nytimes.com/2020/07/23/science/coronavirus-seismic-activity.html', 'https://www.nytimes.com/2020/08/06/health/coronavirus-immune-cells.html', 'https://www.nytimes.com/2020/07/27/science/trees-immortality.html', 'https://www.nytimes.com/2020/07/18/health/coronavirus-anti-vaccine.html', 'https://www.nytimes.com/2020/08/03/health/coronavirus-tuberculosis-aids-malaria.html', 'https://www.nytimes.com/2020/07/10/science/astronomy-galaxies-attractor-universe.html', 'https://www.nytimes.com/2020/07/10/health/coronavirus-sutter-california-hospitals.html', 'https://www.nytimes.com/2020/07/28/health/alzheimers-blood-test.html', 'https://www.nytimes.com/2020/07/13/science/chlamydia-koalas-vaccines.html', 'https://www.nytimes.com/2020/07/09/health/antibiotics-pharma-drug-resistance.html', 'https://www.nytimes.com/2020/07/30/health/covid-19-vaccine-monkeys.html', 'https://www.nytimes.com/2020/07/08/health/coronavirus-origin-china-lucey.html', 'https://www.nytimes.com/2020/07/30/science/nasa-mars-launch.html', 'https://www.nytimes.com/2020/07/31/science/lizards-liolaemus-argentina.html', 'https://www.nytimes.com/2020/07/09/health/virus-aerosols-who.html', 'https://www.nytimes.com/2020/07/29/health/coronavirus-vaccines.html', 'https://www.nytimes.com/2020/07/09/science/sea-squirts-embryos.html', 'https://www.nytimes.com/2020/07/30/science/anglerfish-immune-rejection.html', 'https://www.nytimes.com/2020/07/27/science/mars-sarah-stewart-johnson.html', 'https://www.nytimes.com/2020/08/06/health/rapid-Covid-tests.html', 'https://www.nytimes.com/2020/07/29/science/moss-quartz-biology-syntrichia.html', 'https://www.nytimes.com/2020/07/08/science/polynesian-ancestry.html', 'https://www.nytimes.com/2020/07/31/health/covid-contact-tracing-tests.html', 'https://www.nytimes.com/2020/07/21/health/coronavirus-infections-us.html', 'https://www.nytimes.com/2020/07/31/health/coronavirus-ethics-rationing-elderly.html', 'https://www.nytimes.com/2020/07/22/science/vampire-bats-viruses.html', 'https://www.nytimes.com/2020/08/04/health/covid-19-vaccine-novavax.html', 'https://www.nytimes.com/2020/07/25/science/blue-hole-florida-ocean.html', 'https://www.nytimes.com/2020/07/07/health/hiv-shot-prep.html', 'https://www.nytimes.com/2020/07/31/health/coronavirus-children-camp.html', 'https://www.nytimes.com/2020/07/29/science/nasa-mars-perseverance-rover.html', 'https://www.nytimes.com/2020/07/21/health/coronavirus-data-states-cdc.html', 'https://www.nytimes.com/2020/07/28/science/mars-nasa-science.html', 'https://www.nytimes.com/2020/07/22/health/covid-antibodies-herd-immunity.html', 'https://www.nytimes.com/2020/07/11/health/coronavirus-schools-reopen.html', 'https://www.nytimes.com/2020/07/14/science/hotdog-eating-contests.html', 'https://www.nytimes.com/2020/07/19/health/coronavirus-premature-birth.html', 'https://www.nytimes.com/2020/07/09/health/regeneron-monoclonal-antibodies.html', 'https://www.nytimes.com/2020/08/05/health/covid-19-vaccine-fda.html', 'https://www.nytimes.com/2020/07/06/science/elephants-dead-botswana.html', 'https://www.nytimes.com/2020/07/25/science/mars-moons-phobos-deimos.html', 'https://www.nytimes.com/2020/07/11/science/windows-street-noise.html', 'https://www.nytimes.com/2020/07/14/health/cornavirus-vaccine-moderna.html', 'https://www.nytimes.com/2020/07/23/science/23andme-african-ancestry.html', 'https://www.nytimes.com/2020/07/28/science/virgin-galactic-cabin.html', 'https://www.nytimes.com/2020/07/24/health/cdc-schools-coronavirus.html', 'https://www.nytimes.com/2020/07/14/science/earthquake-dna-genes-kelp.html', 'https://www.nytimes.com/2020/07/21/science/mammals-vocal-learning.html', 'https://www.nytimes.com/2020/07/15/science/coronavirus-blood-type.html', 'https://www.nytimes.com/2020/08/01/science/vines-lianas-panama.html', 'https://www.nytimes.com/2020/07/16/science/nasa-james-webb-space-telescope-delay.html', 'https://www.nytimes.com/2020/07/06/health/coronavirus-airborne-aerosols.html', 'https://www.nytimes.com/2020/07/29/health/coronavirus-future-america.html', 'https://www.nytimes.com/2020/08/02/health/dr-birx-coronavirus-phase.html', 'https://www.nytimes.com/2020/07/07/health/novavax-coronavirus-vaccine-warp-speed.html', 'https://www.nytimes.com/2020/08/02/science/spacex-nasa-return.html', 'https://www.nytimes.com/2020/07/24/science/mars-life-water.html', 'https://www.nytimes.com/2020/07/28/science/nasa-jezero-perseverance.html', 'https://www.nytimes.com/2020/08/04/health/coronavirus-hotels-infect.html', 'https://www.nytimes.com/2020/07/22/science/china-mars-mission.html', 'https://www.nytimes.com/2020/07/22/science/mars-china-launch.html', 'https://www.nytimes.com/2020/08/04/health/coronavirus-immune-system.html', 'https://www.nytimes.com/2020/07/22/health/coronavirus-isolation-testing.html', 'https://www.nytimes.com/2020/08/04/science/randall-munroe-xkcd-temperature.html', 'https://www.nytimes.com/2020/07/06/health/fast-coronavirus-tests.html', 'https://www.nytimes.com/article/trump-cognitive-test.html', 'https://www.nytimes.com/2020/07/19/health/coronavirus-testing-viral-spread.html', 'https://www.nytimes.com/article/neowise-comet.html', 'https://www.nytimes.com/2020/07/06/health/coronavirus-nick-cordero-underlying-conditions.html', 'https://www.nytimes.com/2020/07/31/science/alexandrian-glass-rome.html', 'https://www.nytimes.com/2020/07/17/health/seniors-coronavirus-reopenings.html', 'https://www.nytimes.com/2020/07/16/health/coronavirus-vaccine-novavax.html', 'https://www.nytimes.com/2020/07/15/science/hybrid-sturgeon-paddlefish.html', 'https://www.nytimes.com/2020/07/18/health/coronavirus-children-schools.html', 'https://www.nytimes.com/2020/07/19/science/emirates-mars-mission.html', 'https://www.nytimes.com/2020/07/29/health/covid-school-reopening.html', 'https://www.nytimes.com/2020/07/13/health/organ-transplants-lungs.html', 'https://www.nytimes.com/2020/07/08/health/coronavirus-risk-factors.html', 'https://www.nytimes.com/2020/07/14/health/coronavirus-hair-salon-masks.html', 'https://www.nytimes.com/2020/07/28/science/mars-sample-return-mission.html', 'https://www.nytimes.com/2020/08/03/science/beetle-frog-poop.html', 'https://www.nytimes.com/2020/07/14/science/mars-united-arab-emirates.html', 'https://www.nytimes.com/2020/08/03/health/covid-telemedicine-congress.html', 'https://www.nytimes.com/2020/07/28/health/coronavirus-moderna-vaccine-monkeys.html', 'https://www.nytimes.com/2020/07/10/health/coronavirus-race-pregnancy.html', 'https://www.nytimes.com/2020/07/23/science/mosquitoes-genetics-africa.html', 'https://www.nytimes.com/2020/07/07/science/neutrinos-snowball-randall-munroe.html', 'https://www.nytimes.com/2020/08/05/health/covid-insurance-profits.html', 'https://www.nytimes.com/2020/07/27/health/moderna-vaccine-covid.html', 'https://www.nytimes.com/2020/07/07/health/coronavirus-aerosols-who.html', 'https://www.nytimes.com/2020/07/21/health/hospitals-donations-patients.html', 'https://www.nytimes.com/2020/08/06/health/coronavirus-asymptomatic-transmission.html', 'https://www.nytimes.com/2020/07/12/health/coronavirus-trump-deaths.html', 'https://www.nytimes.com/2020/07/23/health/coronavirus-vaccine-allocation.html', 'https://www.nytimes.com/2020/07/18/science/bear-whisperer-steve-searles.html', 'https://www.nytimes.com/2020/07/29/science/stonehenge-archaeology-sarsens.html', 'https://www.nytimes.com/2020/07/31/health/covid-19-vaccine-sanofi-gsk.html', 'https://www.nytimes.com/2020/07/07/science/boeing-starliner-nasa.html', 'https://www.nytimes.com/2020/07/07/health/hiv-remission-brazil.html', 'https://www.nytimes.com/2020/07/06/science/spirit-bears-canada.html', 'https://www.nytimes.com/2020/07/23/science/coronavirus-seismic-activity.html', 'https://www.nytimes.com/2020/07/27/science/trees-immortality.html', 'https://www.nytimes.com/2020/07/18/health/coronavirus-anti-vaccine.html', 'https://www.nytimes.com/2020/08/03/health/coronavirus-tuberculosis-aids-malaria.html', 'https://www.nytimes.com/2020/07/10/science/astronomy-galaxies-attractor-universe.html', 'https://www.nytimes.com/2020/07/10/health/coronavirus-sutter-california-hospitals.html', 'https://www.nytimes.com/2020/07/28/health/alzheimers-blood-test.html', 'https://www.nytimes.com/2020/07/13/science/chlamydia-koalas-vaccines.html', 'https://www.nytimes.com/2020/07/09/health/antibiotics-pharma-drug-resistance.html', 'https://www.nytimes.com/2020/07/30/health/covid-19-vaccine-monkeys.html', 'https://www.nytimes.com/2020/07/08/health/coronavirus-origin-china-lucey.html', 'https://www.nytimes.com/2020/07/30/science/nasa-mars-launch.html', 'https://www.nytimes.com/2020/07/31/science/lizards-liolaemus-argentina.html', 'https://www.nytimes.com/2020/07/09/health/virus-aerosols-who.html', 'https://www.nytimes.com/2020/07/29/health/coronavirus-vaccines.html', 'https://www.nytimes.com/2020/07/09/science/sea-squirts-embryos.html', 'https://www.nytimes.com/2020/07/30/science/anglerfish-immune-rejection.html', 'https://www.nytimes.com/2020/07/27/science/mars-sarah-stewart-johnson.html', 'https://www.nytimes.com/2020/08/06/health/rapid-Covid-tests.html', 'https://www.nytimes.com/2020/07/29/science/moss-quartz-biology-syntrichia.html', 'https://www.nytimes.com/2020/07/08/science/polynesian-ancestry.html', 'https://www.nytimes.com/2020/07/31/health/covid-contact-tracing-tests.html', 'https://www.nytimes.com/2020/07/21/health/coronavirus-infections-us.html', 'https://www.nytimes.com/2020/07/31/health/coronavirus-ethics-rationing-elderly.html', 'https://www.nytimes.com/2020/07/22/science/vampire-bats-viruses.html', 'https://www.nytimes.com/2020/08/04/health/covid-19-vaccine-novavax.html', 'https://www.nytimes.com/2020/07/25/science/blue-hole-florida-ocean.html', 'https://www.nytimes.com/2020/07/07/health/hiv-shot-prep.html', 'https://www.nytimes.com/2020/07/31/health/coronavirus-children-camp.html', 'https://www.nytimes.com/2020/07/29/science/nasa-mars-perseverance-rover.html', 'https://www.nytimes.com/2020/07/21/health/coronavirus-data-states-cdc.html', 'https://www.nytimes.com/2020/07/28/science/mars-nasa-science.html', 'https://www.nytimes.com/2020/07/22/health/covid-antibodies-herd-immunity.html', 'https://www.nytimes.com/2020/07/11/health/coronavirus-schools-reopen.html', 'https://www.nytimes.com/2020/07/14/science/hotdog-eating-contests.html', 'https://www.nytimes.com/2020/07/19/health/coronavirus-premature-birth.html', 'https://www.nytimes.com/2020/07/09/health/regeneron-monoclonal-antibodies.html', 'https://www.nytimes.com/2020/08/05/health/covid-19-vaccine-fda.html', 'https://www.nytimes.com/2020/07/06/science/elephants-dead-botswana.html', 'https://www.nytimes.com/2020/07/25/science/mars-moons-phobos-deimos.html', 'https://www.nytimes.com/2020/07/11/science/windows-street-noise.html', 'https://www.nytimes.com/2020/07/14/health/cornavirus-vaccine-moderna.html', 'https://www.nytimes.com/2020/07/23/science/23andme-african-ancestry.html', 'https://www.nytimes.com/2020/07/28/science/virgin-galactic-cabin.html', 'https://www.nytimes.com/2020/07/22/health/microbiome-malnourishment-children.html']\n"
          ],
          "name": "stdout"
        }
      ]
    },
    {
      "cell_type": "code",
      "metadata": {
        "id": "RnY1UPgKpyJa",
        "colab_type": "code",
        "colab": {
          "base_uri": "https://localhost:8080/",
          "height": 34
        },
        "outputId": "0e8f1490-dca8-4f4c-f994-4c1ac4c04c9c"
      },
      "source": [
        "## Write raw content to folder semi_supervised_lda/data/raw_content/\n",
        "for link in list_of_links:\n",
        "  scrape_text_from_link(link, raw_content_dir)\n",
        "\n",
        "print(\"completed scraping raw content!!\")"
      ],
      "execution_count": 39,
      "outputs": [
        {
          "output_type": "stream",
          "text": [
            "completed scraping raw content!!\n"
          ],
          "name": "stdout"
        }
      ]
    },
    {
      "cell_type": "code",
      "metadata": {
        "id": "yU2NiqA6sEor",
        "colab_type": "code",
        "colab": {
          "base_uri": "https://localhost:8080/",
          "height": 1000
        },
        "outputId": "ef8c098c-a170-43d3-8d16-968540a1d357"
      },
      "source": [
        "!zip -r /content/fsemi-supervised-lda.zip /content/semi-supervised-lda"
      ],
      "execution_count": 45,
      "outputs": [
        {
          "output_type": "stream",
          "text": [
            "  adding: content/semi-supervised-lda/ (stored 0%)\n",
            "  adding: content/semi-supervised-lda/data/ (stored 0%)\n",
            "  adding: content/semi-supervised-lda/data/parsed_content/ (stored 0%)\n",
            "  adding: content/semi-supervised-lda/data/raw_content/ (stored 0%)\n",
            "  adding: content/semi-supervised-lda/data/raw_content/nasa-mars-perseverance-rover.html.txt.gz (stored 0%)\n",
            "  adding: content/semi-supervised-lda/data/raw_content/coronavirus-airborne-aerosols.html.txt.gz (stored 0%)\n",
            "  adding: content/semi-supervised-lda/data/raw_content/covid-school-reopening.html.txt.gz (stored 0%)\n",
            "  adding: content/semi-supervised-lda/data/raw_content/coronavirus-blood-type.html.txt.gz (stored 0%)\n",
            "  adding: content/semi-supervised-lda/data/raw_content/hiv-shot-prep.html.txt.gz (stored 0%)\n",
            "  adding: content/semi-supervised-lda/data/raw_content/nasa-jezero-perseverance.html.txt.gz (stored 0%)\n",
            "  adding: content/semi-supervised-lda/data/raw_content/coronavirus-risk-factors.html.txt.gz (stored 0%)\n",
            "  adding: content/semi-supervised-lda/data/raw_content/hiv-remission-brazil.html.txt.gz (stored 0%)\n",
            "  adding: content/semi-supervised-lda/data/raw_content/earthquake-dna-genes-kelp.html.txt.gz (stored 0%)\n",
            "  adding: content/semi-supervised-lda/data/raw_content/covid-19-vaccine-fda.html.txt.gz (stored 0%)\n",
            "  adding: content/semi-supervised-lda/data/raw_content/anglerfish-immune-rejection.html.txt.gz (stored 0%)\n",
            "  adding: content/semi-supervised-lda/data/raw_content/cdc-schools-coronavirus.html.txt.gz (stored 0%)\n",
            "  adding: content/semi-supervised-lda/data/raw_content/nasa-mars-launch.html.txt.gz (stored 0%)\n",
            "  adding: content/semi-supervised-lda/data/raw_content/astronomy-galaxies-attractor-universe.html.txt.gz (stored 0%)\n",
            "  adding: content/semi-supervised-lda/data/raw_content/coronavirus-data-states-cdc.html.txt.gz (stored 0%)\n",
            "  adding: content/semi-supervised-lda/data/raw_content/coronavirus-vaccines.html.txt.gz (stored 0%)\n",
            "  adding: content/semi-supervised-lda/data/raw_content/sea-squirts-embryos.html.txt.gz (stored 0%)\n",
            "  adding: content/semi-supervised-lda/data/raw_content/regeneron-monoclonal-antibodies.html.txt.gz (stored 0%)\n",
            "  adding: content/semi-supervised-lda/data/raw_content/coronavirus-origin-china-lucey.html.txt.gz (stored 0%)\n",
            "  adding: content/semi-supervised-lda/data/raw_content/mars-moons-phobos-deimos.html.txt.gz (stored 0%)\n",
            "  adding: content/semi-supervised-lda/data/raw_content/antibiotics-pharma-drug-resistance.html.txt.gz (stored 0%)\n",
            "  adding: content/semi-supervised-lda/data/raw_content/coronavirus-immune-cells.html.txt.gz (stored 0%)\n",
            "  adding: content/semi-supervised-lda/data/raw_content/chlamydia-koalas-vaccines.html.txt.gz (stored 0%)\n",
            "  adding: content/semi-supervised-lda/data/raw_content/hotdog-eating-contests.html.txt.gz (stored 0%)\n",
            "  adding: content/semi-supervised-lda/data/raw_content/coronavirus-testing-viral-spread.html.txt.gz (stored 0%)\n",
            "  adding: content/semi-supervised-lda/data/raw_content/windows-street-noise.html.txt.gz (stored 0%)\n",
            "  adding: content/semi-supervised-lda/data/raw_content/coronavirus-race-pregnancy.html.txt.gz (stored 0%)\n",
            "  adding: content/semi-supervised-lda/data/raw_content/mars-nasa-science.html.txt.gz (stored 0%)\n",
            "  adding: content/semi-supervised-lda/data/raw_content/lizards-liolaemus-argentina.html.txt.gz (stored 0%)\n",
            "  adding: content/semi-supervised-lda/data/raw_content/spirit-bears-canada.html.txt.gz (stored 0%)\n",
            "  adding: content/semi-supervised-lda/data/raw_content/coronavirus-seismic-activity.html.txt.gz (stored 0%)\n",
            "  adding: content/semi-supervised-lda/data/raw_content/coronavirus-sutter-california-hospitals.html.txt.gz (stored 0%)\n",
            "  adding: content/semi-supervised-lda/data/raw_content/moderna-vaccine-covid.html.txt.gz (stored 0%)\n",
            "  adding: content/semi-supervised-lda/data/raw_content/coronavirus-isolation-testing.html.txt.gz (stored 0%)\n",
            "  adding: content/semi-supervised-lda/data/raw_content/coronavirus-future-america.html.txt.gz (stored 0%)\n",
            "  adding: content/semi-supervised-lda/data/raw_content/spacex-nasa-return.html.txt.gz (stored 0%)\n",
            "  adding: content/semi-supervised-lda/data/raw_content/fast-coronavirus-tests.html.txt.gz (stored 0%)\n",
            "  adding: content/semi-supervised-lda/data/raw_content/coronavirus-immune-system.html.txt.gz (stored 0%)\n",
            "  adding: content/semi-supervised-lda/data/raw_content/coronavirus-asymptomatic-transmission.html.txt.gz (stored 0%)\n",
            "  adding: content/semi-supervised-lda/data/raw_content/covid-19-vaccine-monkeys.html.txt.gz (stored 0%)\n",
            "  adding: content/semi-supervised-lda/data/raw_content/virus-aerosols-who.html.txt.gz (stored 0%)\n",
            "  adding: content/semi-supervised-lda/data/raw_content/neutrinos-snowball-randall-munroe.html.txt.gz (stored 0%)\n",
            "  adding: content/semi-supervised-lda/data/raw_content/cornavirus-vaccine-moderna.html.txt.gz (stored 0%)\n",
            "  adding: content/semi-supervised-lda/data/raw_content/blue-hole-florida-ocean.html.txt.gz (stored 0%)\n",
            "  adding: content/semi-supervised-lda/data/raw_content/coronavirus-schools-reopen.html.txt.gz (stored 0%)\n",
            "  adding: content/semi-supervised-lda/data/raw_content/coronavirus-trump-deaths.html.txt.gz (stored 0%)\n",
            "  adding: content/semi-supervised-lda/data/raw_content/china-mars-mission.html.txt.gz (stored 0%)\n",
            "  adding: content/semi-supervised-lda/data/raw_content/coronavirus-hotels-infect.html.txt.gz (stored 0%)\n",
            "  adding: content/semi-supervised-lda/data/raw_content/coronavirus-children-schools.html.txt.gz (stored 0%)\n",
            "  adding: content/semi-supervised-lda/data/raw_content/23andme-african-ancestry.html.txt.gz (stored 0%)\n",
            "  adding: content/semi-supervised-lda/data/raw_content/coronavirus-aerosols-who.html.txt.gz (stored 0%)\n",
            "  adding: content/semi-supervised-lda/data/raw_content/mosquitoes-genetics-africa.html.txt.gz (stored 0%)\n",
            "  adding: content/semi-supervised-lda/data/raw_content/virgin-galactic-cabin.html.txt.gz (stored 0%)\n",
            "  adding: content/semi-supervised-lda/data/raw_content/stonehenge-archaeology-sarsens.html.txt.gz (stored 0%)\n",
            "  adding: content/semi-supervised-lda/data/raw_content/trump-cognitive-test.html.txt.gz (stored 0%)\n",
            "  adding: content/semi-supervised-lda/data/raw_content/vampire-bats-viruses.html.txt.gz (stored 0%)\n",
            "  adding: content/semi-supervised-lda/data/raw_content/covid-19-vaccine-novavax.html.txt.gz (stored 0%)\n",
            "  adding: content/semi-supervised-lda/data/raw_content/alzheimers-blood-test.html.txt.gz (stored 0%)\n",
            "  adding: content/semi-supervised-lda/data/raw_content/coronavirus-vaccine-allocation.html.txt.gz (stored 0%)\n",
            "  adding: content/semi-supervised-lda/data/raw_content/moss-quartz-biology-syntrichia.html.txt.gz (stored 0%)\n",
            "  adding: content/semi-supervised-lda/data/raw_content/coronavirus-tuberculosis-aids-malaria.html.txt.gz (stored 0%)\n",
            "  adding: content/semi-supervised-lda/data/raw_content/mars-china-launch.html.txt.gz (stored 0%)\n",
            "  adding: content/semi-supervised-lda/data/raw_content/nasa-james-webb-space-telescope-delay.html.txt.gz (stored 0%)\n",
            "  adding: content/semi-supervised-lda/data/raw_content/covid-19-vaccine-sanofi-gsk.html.txt.gz (stored 0%)\n",
            "  adding: content/semi-supervised-lda/data/raw_content/novavax-coronavirus-vaccine-warp-speed.html.txt.gz (stored 0%)\n",
            "  adding: content/semi-supervised-lda/data/raw_content/coronavirus-premature-birth.html.txt.gz (stored 0%)\n",
            "  adding: content/semi-supervised-lda/data/raw_content/coronavirus-infections-us.html.txt.gz (stored 0%)\n",
            "  adding: content/semi-supervised-lda/data/raw_content/boeing-starliner-nasa.html.txt.gz (stored 0%)\n",
            "  adding: content/semi-supervised-lda/data/raw_content/covid-contact-tracing-tests.html.txt.gz (stored 0%)\n",
            "  adding: content/semi-supervised-lda/data/raw_content/polynesian-ancestry.html.txt.gz (stored 0%)\n",
            "  adding: content/semi-supervised-lda/data/raw_content/coronavirus-vaccine-novavax.html.txt.gz (stored 0%)\n",
            "  adding: content/semi-supervised-lda/data/raw_content/covid-antibodies-herd-immunity.html.txt.gz (stored 0%)\n",
            "  adding: content/semi-supervised-lda/data/raw_content/vines-lianas-panama.html.txt.gz (stored 0%)\n",
            "  adding: content/semi-supervised-lda/data/raw_content/coronavirus-hair-salon-masks.html.txt.gz (stored 0%)\n",
            "  adding: content/semi-supervised-lda/data/raw_content/mars-life-water.html.txt.gz (stored 0%)\n",
            "  adding: content/semi-supervised-lda/data/raw_content/beetle-frog-poop.html.txt.gz (stored 0%)\n",
            "  adding: content/semi-supervised-lda/data/raw_content/organ-transplants-lungs.html.txt.gz (stored 0%)\n",
            "  adding: content/semi-supervised-lda/data/raw_content/mars-united-arab-emirates.html.txt.gz (stored 0%)\n",
            "  adding: content/semi-supervised-lda/data/raw_content/mars-sample-return-mission.html.txt.gz (stored 0%)\n",
            "  adding: content/semi-supervised-lda/data/raw_content/coronavirus-anti-vaccine.html.txt.gz (stored 0%)\n",
            "  adding: content/semi-supervised-lda/data/raw_content/emirates-mars-mission.html.txt.gz (stored 0%)\n",
            "  adding: content/semi-supervised-lda/data/raw_content/dr-birx-coronavirus-phase.html.txt.gz (stored 0%)\n",
            "  adding: content/semi-supervised-lda/data/raw_content/mars-sarah-stewart-johnson.html.txt.gz (stored 0%)\n",
            "  adding: content/semi-supervised-lda/data/raw_content/coronavirus-nick-cordero-underlying-conditions.html.txt.gz (stored 0%)\n",
            "  adding: content/semi-supervised-lda/data/raw_content/rapid-Covid-tests.html.txt.gz (stored 0%)\n",
            "  adding: content/semi-supervised-lda/data/raw_content/covid-insurance-profits.html.txt.gz (stored 0%)\n",
            "  adding: content/semi-supervised-lda/data/raw_content/coronavirus-ethics-rationing-elderly.html.txt.gz (stored 0%)\n",
            "  adding: content/semi-supervised-lda/data/raw_content/microbiome-malnourishment-children.html.txt.gz (stored 0%)\n",
            "  adding: content/semi-supervised-lda/data/raw_content/hybrid-sturgeon-paddlefish.html.txt.gz (stored 0%)\n",
            "  adding: content/semi-supervised-lda/data/raw_content/mammals-vocal-learning.html.txt.gz (stored 0%)\n",
            "  adding: content/semi-supervised-lda/data/raw_content/randall-munroe-xkcd-temperature.html.txt.gz (stored 0%)\n",
            "  adding: content/semi-supervised-lda/data/raw_content/trees-immortality.html.txt.gz (stored 0%)\n",
            "  adding: content/semi-supervised-lda/data/raw_content/covid-telemedicine-congress.html.txt.gz (stored 0%)\n",
            "  adding: content/semi-supervised-lda/data/raw_content/elephants-dead-botswana.html.txt.gz (stored 0%)\n",
            "  adding: content/semi-supervised-lda/data/raw_content/bear-whisperer-steve-searles.html.txt.gz (stored 0%)\n",
            "  adding: content/semi-supervised-lda/data/raw_content/hospitals-donations-patients.html.txt.gz (stored 0%)\n",
            "  adding: content/semi-supervised-lda/data/raw_content/alexandrian-glass-rome.html.txt.gz (stored 0%)\n",
            "  adding: content/semi-supervised-lda/data/raw_content/coronavirus-children-camp.html.txt.gz (stored 0%)\n",
            "  adding: content/semi-supervised-lda/data/raw_content/coronavirus-moderna-vaccine-monkeys.html.txt.gz (stored 0%)\n",
            "  adding: content/semi-supervised-lda/data/raw_content/seniors-coronavirus-reopenings.html.txt.gz (stored 0%)\n",
            "  adding: content/semi-supervised-lda/data/raw_content/neowise-comet.html.txt.gz (stored 0%)\n",
            "  adding: content/semi-supervised-lda/data/links/ (stored 0%)\n",
            "  adding: content/semi-supervised-lda/data/links/links-timesarchive-science-pastmonth-1.html.gz (stored 0%)\n",
            "  adding: content/semi-supervised-lda/data/links/link-timesarchive-science-pastmonth-2.html.gz (stored 0%)\n"
          ],
          "name": "stdout"
        }
      ]
    }
  ]
}